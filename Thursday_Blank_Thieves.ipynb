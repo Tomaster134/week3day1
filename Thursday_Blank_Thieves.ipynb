{
 "cells": [
  {
   "cell_type": "markdown",
   "metadata": {},
   "source": [
    "# Object-Oriented-Programming (OOP)"
   ]
  },
  {
   "cell_type": "markdown",
   "metadata": {},
   "source": [
    "## Tasks Today:\n",
    "\n",
    "   \n",
    "\n",
    "1) <b>Creating a Class (Initializing/Declaring)</b> <br>\n",
    "2) <b>Using a Class (Instantiating)</b> <br>\n",
    " &nbsp;&nbsp;&nbsp;&nbsp; a) Creating One Instance <br>\n",
    " &nbsp;&nbsp;&nbsp;&nbsp; b) Creating Multiple Instances <br>\n",
    " &nbsp;&nbsp;&nbsp;&nbsp; c) In-Class Exercise #1 - Create a Class 'Car' and instantiate three different makes of cars <br>\n",
    "3) <b>The \\__init\\__() Method</b> <br>\n",
    " &nbsp;&nbsp;&nbsp;&nbsp; a) The 'self' Attribute <br>\n",
    "4) <b>Class Attributes</b> <br>\n",
    " &nbsp;&nbsp;&nbsp;&nbsp; a) Initializing Attributes <br>\n",
    " &nbsp;&nbsp;&nbsp;&nbsp; b) Setting an Attribute Outside of the \\__init\\__() Method <br>\n",
    " &nbsp;&nbsp;&nbsp;&nbsp; c) Setting Defaults for Attributes <br>\n",
    " &nbsp;&nbsp;&nbsp;&nbsp; d) Accessing Class Attributes <br>\n",
    " &nbsp;&nbsp;&nbsp;&nbsp; e) Changing Class Attributes <br>\n",
    " &nbsp;&nbsp;&nbsp;&nbsp; f) In-Class Exercise #2 - Add a color and wheels attribute to your 'Car' class <br>\n",
    "5) <b>Class Methods</b> <br>\n",
    " &nbsp;&nbsp;&nbsp;&nbsp; a) Creating <br>\n",
    " &nbsp;&nbsp;&nbsp;&nbsp; b) Calling <br>\n",
    " &nbsp;&nbsp;&nbsp;&nbsp; c) Modifying an Attribute's Value Through a Method <br>\n",
    " &nbsp;&nbsp;&nbsp;&nbsp; d) Incrementing an Attribute's Value Through a Method <br>\n",
    " &nbsp;&nbsp;&nbsp;&nbsp; e) In-Class Exercise #3 - Add a method that prints the cars color and wheel number, then call them <br>\n",
    "6) <b>Inheritance</b> <br>\n",
    " &nbsp;&nbsp;&nbsp;&nbsp; a) Syntax for Inheriting from a Parent Class <br>\n",
    " &nbsp;&nbsp;&nbsp;&nbsp; b) The \\__init\\__() Method for a Child Class (super()) <br>\n",
    " &nbsp;&nbsp;&nbsp;&nbsp; c) Defining Attributes and Methods for the Child Class <br>\n",
    " &nbsp;&nbsp;&nbsp;&nbsp; d) Method Overriding <br>\n",
    " &nbsp;&nbsp;&nbsp;&nbsp; e) In-Class Exercise #4 - Create a class 'Ford' that inherits from 'Car' class and initialize it as a Blue Ford Explorer with 4 wheels using the super() method <br>\n",
    "7) <b>Classes as Attributes</b> <br>\n",
    "8) <b>Exercises</b> <br>\n",
    " &nbsp;&nbsp;&nbsp;&nbsp; a) Exercise #1 - Turn the shopping cart program from yesterday into an object-oriented program <br>"
   ]
  },
  {
   "cell_type": "markdown",
   "metadata": {},
   "source": [
    "## Creating a Class (Initializing/Declaring)\n",
    "<p>When creating a class, function, or even a variable you are initializing that object. Initializing and Declaring occur at the same time in Python, whereas in lower level languages you have to declare an object before initializing it. This is the first step in the process of using a class.</p>"
   ]
  },
  {
   "cell_type": "code",
   "execution_count": null,
   "metadata": {},
   "outputs": [],
   "source": [
    "class Ford():\n",
    "    wheels = 4\n",
    "    color = 'blue'"
   ]
  },
  {
   "cell_type": "markdown",
   "metadata": {},
   "source": [
    "## Using a Class (Instantiating)\n",
    "<p>The process of creating a class is called <i>Instantiating</i>. Each time you create a variable of that type of class, it is referred to as an <i>Instance</i> of that class. This is the second step in the process of using a class.</p>"
   ]
  },
  {
   "cell_type": "markdown",
   "metadata": {},
   "source": [
    "##### Creating One Instance"
   ]
  },
  {
   "cell_type": "code",
   "execution_count": null,
   "metadata": {},
   "outputs": [],
   "source": [
    "fusion = Ford()\n",
    "\n",
    "print(fusion.wheels)"
   ]
  },
  {
   "cell_type": "markdown",
   "metadata": {},
   "source": [
    "##### Creating Multiple Instances"
   ]
  },
  {
   "cell_type": "code",
   "execution_count": null,
   "metadata": {},
   "outputs": [],
   "source": [
    "f_150 = Ford()\n",
    "explorer = Ford()\n",
    "mustang = Ford()"
   ]
  },
  {
   "cell_type": "markdown",
   "metadata": {},
   "source": [
    "##### In-Class Exercise #1 - Create a Class 'Car' and Instantiate three different makes of cars"
   ]
  },
  {
   "cell_type": "code",
   "execution_count": null,
   "metadata": {},
   "outputs": [],
   "source": [
    "class Car():\n",
    "    wheels = 4\n",
    "    engine = True\n",
    "\n",
    "toyota = Car()\n",
    "nissan = Car()\n",
    "honda = Car()"
   ]
  },
  {
   "cell_type": "markdown",
   "metadata": {},
   "source": [
    "## The \\__init\\__() Method <br>\n",
    "<p>This method is used in almost every created class, and called only once upon the creation of the class instance. This method will initialize all variables needed for the object.</p>"
   ]
  },
  {
   "cell_type": "code",
   "execution_count": null,
   "metadata": {},
   "outputs": [],
   "source": [
    "class Ford():\n",
    "    wheels = 4 #Class attribute\n",
    "\n",
    "    def __init__(self, year, color, engine): #Instance attributes\n",
    "        self.year = year\n",
    "        self.color = color\n",
    "        self.engine = engine\n",
    "\n",
    "fusion = Ford('2020', 'purple', 'v8')\n",
    "\n",
    "print(fusion.wheels)"
   ]
  },
  {
   "cell_type": "markdown",
   "metadata": {},
   "source": [
    "##### The 'self' Attribute <br>\n",
    "<p>This attribute is required to keep track of specific instance's attributes. Without the self attribute, the program would not know how to reference or keep track of an instance's attributes.</p>"
   ]
  },
  {
   "cell_type": "code",
   "execution_count": null,
   "metadata": {},
   "outputs": [],
   "source": [
    "# see above"
   ]
  },
  {
   "cell_type": "markdown",
   "metadata": {},
   "source": [
    "## Class Attributes <br>\n",
    "<p>While variables are inside of a class, they are referred to as attributes and not variables. When someone says 'attribute' you know they're speaking about a class. Attributes can be initialized through the init method, or outside of it.</p>"
   ]
  },
  {
   "cell_type": "markdown",
   "metadata": {},
   "source": [
    "##### Initializing Attributes"
   ]
  },
  {
   "cell_type": "code",
   "execution_count": null,
   "metadata": {},
   "outputs": [],
   "source": [
    "# see above\n",
    "\n",
    "print(fusion.wheels) #Wheels"
   ]
  },
  {
   "cell_type": "markdown",
   "metadata": {},
   "source": [
    "##### Accessing Class Attributes"
   ]
  },
  {
   "cell_type": "code",
   "execution_count": null,
   "metadata": {
    "scrolled": true
   },
   "outputs": [],
   "source": [
    "# See Above\n",
    "\n",
    "print(fusion.wheels) #Wheels"
   ]
  },
  {
   "cell_type": "markdown",
   "metadata": {},
   "source": [
    "##### Setting Defaults for Attributes"
   ]
  },
  {
   "cell_type": "code",
   "execution_count": null,
   "metadata": {},
   "outputs": [],
   "source": [
    "class Ford():\n",
    "\n",
    "    def __init__(self, year, color, engine, wheels = 4): #Instance attributes\n",
    "        self.year = year\n",
    "        self.color = color\n",
    "        self.engine = engine\n",
    "        self.wheels = wheels\n",
    "\n",
    "\n",
    "fusion = Ford('2020', 'purple', 'v8')\n",
    "tow_truck = Ford('1950', 'dirt', 'corn', 6)\n",
    "\n",
    "print(fusion.wheels)\n",
    "print(tow_truck.wheels)"
   ]
  },
  {
   "attachments": {},
   "cell_type": "markdown",
   "metadata": {},
   "source": [
    "##### Changing Instance Attributes <br>\n",
    "<p>Keep in mind there are global class attributes and then there are attributes only available to each class instance which won't effect other classes.</p>"
   ]
  },
  {
   "cell_type": "code",
   "execution_count": null,
   "metadata": {},
   "outputs": [],
   "source": [
    "# see above\n",
    "\n",
    "print(fusion.color)\n",
    "fusion.color = 'white'\n",
    "\n",
    "print(fusion.color)"
   ]
  },
  {
   "cell_type": "markdown",
   "metadata": {},
   "source": [
    "##### In-Class Exercise #2 - Add a doors and seats attribute to your 'Car' class then print out two different instances with different doors and seats"
   ]
  },
  {
   "cell_type": "code",
   "execution_count": null,
   "metadata": {},
   "outputs": [],
   "source": [
    "class Car():\n",
    "    wheels = 4\n",
    "    engine = True\n",
    "\n",
    "    def __init__(self, doors = 4, seats = 5):\n",
    "        self.doors = doors\n",
    "        self.seats = seats\n",
    "\n",
    "sedan = Car()\n",
    "limo = Car(8, 16)\n",
    "racecar = Car(1, 1)\n",
    "\n",
    "print(sedan.doors)\n",
    "print(sedan.seats)\n",
    "print('----------------')\n",
    "print(limo.doors)\n",
    "print(limo.seats)\n",
    "print('----------------')\n",
    "print(racecar.doors)\n",
    "print(racecar.seats)"
   ]
  },
  {
   "cell_type": "markdown",
   "metadata": {},
   "source": [
    "## Class Methods <br>\n",
    "<p>While inside of a class, functions are referred to as 'methods'. If you hear someone mention methods, they're speaking about classes. Methods are essentially functions, but only callable on the instances of a class.</p>"
   ]
  },
  {
   "cell_type": "markdown",
   "metadata": {},
   "source": [
    "##### Creating"
   ]
  },
  {
   "cell_type": "code",
   "execution_count": null,
   "metadata": {},
   "outputs": [],
   "source": [
    "class Ford():\n",
    "\n",
    "    def __init__(self, year, color, engine, wheels = 4): #Instance attributes\n",
    "        self.year = year\n",
    "        self.color = color\n",
    "        self.engine = engine\n",
    "        self.wheels = wheels\n",
    "    \n",
    "    def info(self):\n",
    "        print(f'This {self.wheels} wheeled vehicle is {self.color} and has a {self.engine} engine.')\n",
    "\n",
    "    def paint_job(self, new_color):\n",
    "        self.color = new_color\n",
    "        print(f'You have changed your car color to {self.color}')\n",
    "\n",
    "    def get_wide(self):\n",
    "        self.wheels += 2\n",
    "        print('GET WIDE')\n",
    "\n",
    "fusion = Ford('2020', 'purple', 'v8')\n",
    "tow_truck = Ford('1950', 'dirt', 'corn', 6)\n",
    "\n",
    "fusion.info()\n",
    "tow_truck.info()"
   ]
  },
  {
   "cell_type": "markdown",
   "metadata": {},
   "source": [
    "##### Calling"
   ]
  },
  {
   "cell_type": "code",
   "execution_count": null,
   "metadata": {},
   "outputs": [],
   "source": [
    "# See Above"
   ]
  },
  {
   "cell_type": "markdown",
   "metadata": {},
   "source": [
    "##### Modifying an Attribute's Value Through a Method"
   ]
  },
  {
   "cell_type": "code",
   "execution_count": null,
   "metadata": {},
   "outputs": [],
   "source": [
    "# see above\n",
    "\n",
    "fusion.paint_job('magenta')"
   ]
  },
  {
   "cell_type": "markdown",
   "metadata": {},
   "source": [
    "##### Incrementing an Attribute's Value Through a Method"
   ]
  },
  {
   "cell_type": "code",
   "execution_count": null,
   "metadata": {},
   "outputs": [],
   "source": [
    "# see above\n",
    "\n",
    "tow_truck.get_wide()\n",
    "print(tow_truck.wheels)\n"
   ]
  },
  {
   "cell_type": "markdown",
   "metadata": {},
   "source": [
    "## Inheritance <br>\n",
    "<p>You can create a child-parent relationship between two classes by using inheritance. What this allows you to do is have overriding methods, but also inherit traits from the parent class. Think of it as an actual parent and child, the child will inherit the parent's genes, as will the classes in OOP</p>"
   ]
  },
  {
   "cell_type": "markdown",
   "metadata": {},
   "source": [
    "##### Syntax for Inheriting from a Parent Class"
   ]
  },
  {
   "cell_type": "code",
   "execution_count": null,
   "metadata": {},
   "outputs": [],
   "source": [
    "class User():\n",
    "    admin = False\n",
    "    banned = False\n",
    "\n",
    "    def __init__(self, username, password, age, followers=None):\n",
    "        self.username = username\n",
    "        self.password = password\n",
    "        self.age = age\n",
    "        self.followers = followers\n",
    "\n",
    "    def info(self):\n",
    "        if self.banned:\n",
    "            print('You are banned, get outta here!')\n",
    "            return\n",
    "        print(f'Hi everyone, I\\'m {self.username} and I\\'m {self.age} years old!')\n",
    "        if self.admin:\n",
    "            print('I am also an admin here!')\n",
    "    \n",
    "    def post(self, post):\n",
    "        if self.banned:\n",
    "            print('You are banned, get outta here!')\n",
    "            return\n",
    "        print(f'{self.username}: {post}')\n",
    "\n",
    "class Admin(User):\n",
    "    admin = True\n",
    "\n",
    "    def __init__(self, username, password, age, calendar=''):\n",
    "        super().__init__(username, password, age)\n",
    "        self.calendar = calendar\n",
    "\n",
    "    def set_calendar(self, url):\n",
    "        self.calendar = url\n",
    "        print(f'You have set your calendar to {url}')\n",
    "\n",
    "    def ban(self, user):\n",
    "        user.banned = True\n",
    "        print(f'{user.username} has been banned, he outta here')\n",
    "\n",
    "\n",
    "tommy = User('Tommy', 'swordfish', 30)\n",
    "\n",
    "tommy.info()\n",
    "\n",
    "tommy.post('Man I am hungry.')\n",
    "\n",
    "dylan = Admin('Dylan', 'StringPass', 100)\n",
    "\n",
    "dylan.ban(tommy)\n",
    "\n",
    "print(tommy.banned)\n",
    "tommy.post('Can anyone hear me?')\n",
    "\n",
    "dylan.info()\n",
    "print(dylan.followers)"
   ]
  },
  {
   "cell_type": "markdown",
   "metadata": {},
   "source": [
    "##### The \\__init\\__() Method for a Child Class - super()"
   ]
  },
  {
   "cell_type": "code",
   "execution_count": null,
   "metadata": {
    "scrolled": true
   },
   "outputs": [],
   "source": [
    "# see above"
   ]
  },
  {
   "cell_type": "markdown",
   "metadata": {},
   "source": [
    "##### Defining Attributes and Methods for the Child Class"
   ]
  },
  {
   "cell_type": "code",
   "execution_count": null,
   "metadata": {},
   "outputs": [],
   "source": [
    "# See Above"
   ]
  },
  {
   "cell_type": "markdown",
   "metadata": {},
   "source": [
    "# Exercises"
   ]
  },
  {
   "cell_type": "markdown",
   "metadata": {},
   "source": [
    "### Exercise 1 - Turn the shopping cart program from yesterday into an object-oriented program\n",
    "\n",
    "The comments in the cell below are there as a guide for thinking about the problem. However, if you feel a different way is best for you and your own thought process, please do what feels best for you by all means."
   ]
  },
  {
   "cell_type": "code",
   "execution_count": null,
   "metadata": {},
   "outputs": [],
   "source": [
    "# Create a class called cart that retains items and has methods to add, remove, and show\n",
    "# Add a runner method\n",
    "\n",
    "#method with a while loop that asks for input until user is done, this method redirects to the appropriate method\n",
    "\n",
    "#init cart contents can be a dictionary\n",
    "\n",
    "class Cart():\n",
    "\n",
    "    def __init__(self, contents={}):\n",
    "        self.contents = contents\n",
    "    \n",
    "    def initialize(self):\n",
    "        question = ''\n",
    "        thing = ''\n",
    "        quant = ''\n",
    "        while True:\n",
    "            question = input('Would you like to ADD items, REMOVE items, SHOW your current list, or QUIT? ').lower()\n",
    "            if question == 'quit': break\n",
    "            elif question == 'add':\n",
    "                if self.add() == 'quit': break\n",
    "            elif question == 'remove':\n",
    "                if self.remove() == 'quit': break\n",
    "            elif question == 'show': self.show()\n",
    "            else: print('Invalid input. Please type ADD, REMOVE, SHOW, or QUIT.')\n",
    "        self.quit()\n",
    "\n",
    "    def quit(self):\n",
    "        if self.contents == {}: print('No shopping list for you :(')\n",
    "        else:\n",
    "            print('Your finalized shopping list is:')\n",
    "            print('------------------------------')\n",
    "            for item, amount in self.contents.items():\n",
    "                print(f'{item}: {amount}')\n",
    "        return\n",
    "    \n",
    "    def add(self):\n",
    "        thing = input('What item would you like to add? ').lower()\n",
    "        if thing == 'quit': return 'quit'\n",
    "        try:\n",
    "            quant = int(input('How many of the item would you like to add? Please answer only using numerical digits. '))\n",
    "            if quant == 'quit': return 'quit'\n",
    "            if thing not in self.contents:\n",
    "                self.contents[thing] = quant\n",
    "                print(f'Added {quant} {thing} to your shopping list!')\n",
    "            else:\n",
    "                self.contents[thing] += quant\n",
    "                print(f'Added {quant} more {thing} to your shopping list!')\n",
    "        except ValueError: print('Bruh. I asked ya to just give me digits. Cut me a break here. Let\\'s take it from the top.')\n",
    "        return\n",
    "    \n",
    "    def remove(self):\n",
    "        if self.contents == {}: print('You don\\'t have a list to remove from yet. Silly goose.')\n",
    "        else:\n",
    "            thing = input('What item would you like to remove? ').lower()\n",
    "            if thing == 'quit': return 'quit'\n",
    "            if thing not in self.contents:\n",
    "                print('Please try again, that item is not on your shopping list.')\n",
    "            else:\n",
    "                try:\n",
    "                    quant = int(input('How many of the item would you like to remove? Please answer only using numerical digits. '))\n",
    "                    if quant == 'quit': return 'quit'\n",
    "                    if self.contents[thing] - quant <= 0:\n",
    "                        del self.contents[thing]\n",
    "                        print(f'Removed all {thing} from your shopping list!')\n",
    "                    else:\n",
    "                        self.contents[thing] -= quant\n",
    "                        print(f'Removed {quant} {thing}')\n",
    "                except ValueError: print('Bruh. I asked ya to just give me digits. Cut me a break here. Let\\'s take it from the top.')\n",
    "        return\n",
    "    \n",
    "    def show(self):\n",
    "        if self.contents == {}: print('You haven\\'t added anything to your shopping list yet.')\n",
    "        else:\n",
    "            print('Your current shopping list is:')\n",
    "            print('------------------------------')\n",
    "            for item, amount in self.contents.items():\n",
    "                print(f'{item}: {amount}')\n",
    "            print('')\n",
    "        return\n",
    "\n",
    "cart = Cart()\n",
    "cart.initialize()\n",
    "  "
   ]
  },
  {
   "cell_type": "markdown",
   "metadata": {},
   "source": [
    "### Exercise 2 - Write a Python class which has two methods get_String and print_String. get_String accept a string from the user and print_String print the string in upper case"
   ]
  },
  {
   "cell_type": "code",
   "execution_count": 11,
   "metadata": {},
   "outputs": [
    {
     "name": "stdout",
     "output_type": "stream",
     "text": [
      "MIC CHECK ONE TWO MIC CHECK 1 2\n",
      "------------\n",
      "No string to print\n",
      "------------\n",
      "Please enter a string as the argument.\n",
      "No string to print\n"
     ]
    }
   ],
   "source": [
    "class Thingie:\n",
    "\n",
    "    def __init__(self, words=''):\n",
    "        self.words = words\n",
    "    \n",
    "    def get_String(self, string=''):\n",
    "        if type(string) == str: self.words = string\n",
    "        else: print('Please enter a string as the argument.')\n",
    "\n",
    "    def print_String(self):\n",
    "        if self.words != '': print(self.words.upper())\n",
    "        else: print('No string to print')\n",
    "\n",
    "test = Thingie()\n",
    "test2 = Thingie()\n",
    "test3 = Thingie()\n",
    "\n",
    "test.get_String('mic check one two mic check 1 2')\n",
    "test.print_String()\n",
    "print('------------')\n",
    "\n",
    "test2.print_String()\n",
    "print('------------')\n",
    "\n",
    "test3.get_String(12)\n",
    "test3.print_String()"
   ]
  }
 ],
 "metadata": {
  "kernelspec": {
   "display_name": "Python 3",
   "language": "python",
   "name": "python3"
  },
  "language_info": {
   "codemirror_mode": {
    "name": "ipython",
    "version": 3
   },
   "file_extension": ".py",
   "mimetype": "text/x-python",
   "name": "python",
   "nbconvert_exporter": "python",
   "pygments_lexer": "ipython3",
   "version": "3.11.5"
  },
  "vscode": {
   "interpreter": {
    "hash": "aa82987a71ca0339a52998cd22613b0c002bda8349fa32a0cb67ceec3936a2bf"
   }
  }
 },
 "nbformat": 4,
 "nbformat_minor": 2
}
